{
 "metadata": {
  "name": "",
  "signature": "sha256:eb1b9385bcdc78ac735b3e7543a95e80e68832c216a0d15d036d8c810a8f116b"
 },
 "nbformat": 3,
 "nbformat_minor": 0,
 "worksheets": [
  {
   "cells": [
    {
     "cell_type": "code",
     "collapsed": false,
     "input": [],
     "language": "python",
     "metadata": {},
     "outputs": []
    }
   ],
   "metadata": {}
  }
 ]
}