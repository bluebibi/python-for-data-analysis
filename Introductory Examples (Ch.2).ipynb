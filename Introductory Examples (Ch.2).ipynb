{
 "cells": [
  {
   "cell_type": "markdown",
   "metadata": {},
   "source": [
    "# Ch. 2 Introductory Examples"
   ]
  },
  {
   "cell_type": "markdown",
   "metadata": {},
   "source": [
    "## 1. usa.gov data from bit.ly"
   ]
  },
  {
   "cell_type": "markdown",
   "metadata": {},
   "source": [
    "- 이미 웹에 저장되어 있는 txt 파일을 URL로 접근하여 가져오기 위하여 urllib2 모듈 활용"
   ]
  },
  {
   "cell_type": "code",
   "execution_count": 4,
   "metadata": {
    "collapsed": false
   },
   "outputs": [],
   "source": [
    "pathUrl = 'https://raw.githubusercontent.com/pydata/pydata-book/master/ch02/usagov_bitly_data2012-03-16-1331923249.txt'"
   ]
  },
  {
   "cell_type": "code",
   "execution_count": 5,
   "metadata": {
    "collapsed": false
   },
   "outputs": [],
   "source": [
    "import urllib2"
   ]
  },
  {
   "cell_type": "code",
   "execution_count": 6,
   "metadata": {
    "collapsed": false
   },
   "outputs": [],
   "source": [
    "response = urllib2.urlopen(pathUrl)"
   ]
  },
  {
   "cell_type": "code",
   "execution_count": 7,
   "metadata": {
    "collapsed": false
   },
   "outputs": [
    {
     "data": {
      "text/plain": [
       "instance"
      ]
     },
     "execution_count": 7,
     "metadata": {},
     "output_type": "execute_result"
    }
   ],
   "source": [
    "type(response)"
   ]
  },
  {
   "cell_type": "code",
   "execution_count": 8,
   "metadata": {
    "collapsed": false
   },
   "outputs": [],
   "source": [
    "responseLines = response.readlines()"
   ]
  },
  {
   "cell_type": "code",
   "execution_count": 9,
   "metadata": {
    "collapsed": false
   },
   "outputs": [
    {
     "data": {
      "text/plain": [
       "'{ \"a\": \"Mozilla\\\\/5.0 (Windows NT 6.1; WOW64) AppleWebKit\\\\/535.11 (KHTML, like Gecko) Chrome\\\\/17.0.963.78 Safari\\\\/535.11\", \"c\": \"US\", \"nk\": 1, \"tz\": \"America\\\\/New_York\", \"gr\": \"MA\", \"g\": \"A6qOVH\", \"h\": \"wfLQtf\", \"l\": \"orofrog\", \"al\": \"en-US,en;q=0.8\", \"hh\": \"1.usa.gov\", \"r\": \"http:\\\\/\\\\/www.facebook.com\\\\/l\\\\/7AQEFzjSi\\\\/1.usa.gov\\\\/wfLQtf\", \"u\": \"http:\\\\/\\\\/www.ncbi.nlm.nih.gov\\\\/pubmed\\\\/22415991\", \"t\": 1331923247, \"hc\": 1331822918, \"cy\": \"Danvers\", \"ll\": [ 42.576698, -70.954903 ] }\\n'"
      ]
     },
     "execution_count": 9,
     "metadata": {},
     "output_type": "execute_result"
    }
   ],
   "source": [
    "responseLines[0]"
   ]
  },
  {
   "cell_type": "code",
   "execution_count": 10,
   "metadata": {
    "collapsed": false
   },
   "outputs": [
    {
     "data": {
      "text/plain": [
       "'{ \"a\": \"GoogleMaps\\\\/RochesterNY\", \"c\": \"US\", \"nk\": 0, \"tz\": \"America\\\\/Denver\", \"gr\": \"UT\", \"g\": \"mwszkS\", \"h\": \"mwszkS\", \"l\": \"bitly\", \"hh\": \"j.mp\", \"r\": \"http:\\\\/\\\\/www.AwareMap.com\\\\/\", \"u\": \"http:\\\\/\\\\/www.monroecounty.gov\\\\/etc\\\\/911\\\\/rss.php\", \"t\": 1331923249, \"hc\": 1308262393, \"cy\": \"Provo\", \"ll\": [ 40.218102, -111.613297 ] }\\n'"
      ]
     },
     "execution_count": 10,
     "metadata": {},
     "output_type": "execute_result"
    }
   ],
   "source": [
    "responseLines[1]"
   ]
  },
  {
   "cell_type": "markdown",
   "metadata": {},
   "source": [
    "- json 포맷으로 컨버팅"
   ]
  },
  {
   "cell_type": "code",
   "execution_count": 11,
   "metadata": {
    "collapsed": false
   },
   "outputs": [],
   "source": [
    "import json"
   ]
  },
  {
   "cell_type": "code",
   "execution_count": 12,
   "metadata": {
    "collapsed": false
   },
   "outputs": [],
   "source": [
    "records = [json.loads(line) for line in responseLines]"
   ]
  },
  {
   "cell_type": "code",
   "execution_count": 13,
   "metadata": {
    "collapsed": false
   },
   "outputs": [
    {
     "data": {
      "text/plain": [
       "{u'a': u'Mozilla/5.0 (Windows NT 6.1; WOW64) AppleWebKit/535.11 (KHTML, like Gecko) Chrome/17.0.963.78 Safari/535.11',\n",
       " u'al': u'en-US,en;q=0.8',\n",
       " u'c': u'US',\n",
       " u'cy': u'Danvers',\n",
       " u'g': u'A6qOVH',\n",
       " u'gr': u'MA',\n",
       " u'h': u'wfLQtf',\n",
       " u'hc': 1331822918,\n",
       " u'hh': u'1.usa.gov',\n",
       " u'l': u'orofrog',\n",
       " u'll': [42.576698, -70.954903],\n",
       " u'nk': 1,\n",
       " u'r': u'http://www.facebook.com/l/7AQEFzjSi/1.usa.gov/wfLQtf',\n",
       " u't': 1331923247,\n",
       " u'tz': u'America/New_York',\n",
       " u'u': u'http://www.ncbi.nlm.nih.gov/pubmed/22415991'}"
      ]
     },
     "execution_count": 13,
     "metadata": {},
     "output_type": "execute_result"
    }
   ],
   "source": [
    "records[0]"
   ]
  },
  {
   "cell_type": "code",
   "execution_count": 21,
   "metadata": {
    "collapsed": false
   },
   "outputs": [
    {
     "data": {
      "text/plain": [
       "{u'a': u'GoogleMaps/RochesterNY',\n",
       " u'c': u'US',\n",
       " u'cy': u'Provo',\n",
       " u'g': u'mwszkS',\n",
       " u'gr': u'UT',\n",
       " u'h': u'mwszkS',\n",
       " u'hc': 1308262393,\n",
       " u'hh': u'j.mp',\n",
       " u'l': u'bitly',\n",
       " u'll': [40.218102, -111.613297],\n",
       " u'nk': 0,\n",
       " u'r': u'http://www.AwareMap.com/',\n",
       " u't': 1331923249,\n",
       " u'tz': u'America/Denver',\n",
       " u'u': u'http://www.monroecounty.gov/etc/911/rss.php'}"
      ]
     },
     "execution_count": 21,
     "metadata": {},
     "output_type": "execute_result"
    }
   ],
   "source": [
    "records[1]"
   ]
  },
  {
   "cell_type": "code",
   "execution_count": 15,
   "metadata": {
    "collapsed": false
   },
   "outputs": [
    {
     "data": {
      "text/plain": [
       "u'America/New_York'"
      ]
     },
     "execution_count": 15,
     "metadata": {},
     "output_type": "execute_result"
    }
   ],
   "source": [
    "records[0]['tz']"
   ]
  },
  {
   "cell_type": "code",
   "execution_count": 19,
   "metadata": {
    "collapsed": false
   },
   "outputs": [
    {
     "data": {
      "text/plain": [
       "[40.218102, -111.613297]"
      ]
     },
     "execution_count": 19,
     "metadata": {},
     "output_type": "execute_result"
    }
   ],
   "source": [
    "records[1]['ll']"
   ]
  },
  {
   "cell_type": "markdown",
   "metadata": {},
   "source": [
    "### 1) 순수 파이썬으로 Time Zone 카운팅"
   ]
  },
  {
   "cell_type": "code",
   "execution_count": 46,
   "metadata": {
    "collapsed": false
   },
   "outputs": [
    {
     "ename": "KeyError",
     "evalue": "'tz'",
     "output_type": "error",
     "traceback": [
      "\u001b[0;31m---------------------------------------------------------------------------\u001b[0m",
      "\u001b[0;31mKeyError\u001b[0m                                  Traceback (most recent call last)",
      "\u001b[0;32m<ipython-input-46-db4fbd348da9>\u001b[0m in \u001b[0;36m<module>\u001b[0;34m()\u001b[0m\n\u001b[0;32m----> 1\u001b[0;31m \u001b[0mtime_zones\u001b[0m \u001b[0;34m=\u001b[0m \u001b[0;34m[\u001b[0m\u001b[0mrec\u001b[0m\u001b[0;34m[\u001b[0m\u001b[0;34m'tz'\u001b[0m\u001b[0;34m]\u001b[0m \u001b[0;32mfor\u001b[0m \u001b[0mrec\u001b[0m \u001b[0;32min\u001b[0m \u001b[0mrecords\u001b[0m\u001b[0;34m]\u001b[0m\u001b[0;34m\u001b[0m\u001b[0m\n\u001b[0m",
      "\u001b[0;31mKeyError\u001b[0m: 'tz'"
     ]
    }
   ],
   "source": [
    "time_zones = [rec['tz'] for rec in records]"
   ]
  },
  {
   "cell_type": "code",
   "execution_count": 23,
   "metadata": {
    "collapsed": false
   },
   "outputs": [],
   "source": [
    "time_zones = [rec['tz'] for rec in records if 'tz' in rec]"
   ]
  },
  {
   "cell_type": "code",
   "execution_count": 24,
   "metadata": {
    "collapsed": false
   },
   "outputs": [
    {
     "data": {
      "text/plain": [
       "[u'America/New_York',\n",
       " u'America/Denver',\n",
       " u'America/New_York',\n",
       " u'America/Sao_Paulo',\n",
       " u'America/New_York',\n",
       " u'America/New_York',\n",
       " u'Europe/Warsaw',\n",
       " u'',\n",
       " u'',\n",
       " u'']"
      ]
     },
     "execution_count": 24,
     "metadata": {},
     "output_type": "execute_result"
    }
   ],
   "source": [
    "time_zones[:10]"
   ]
  },
  {
   "cell_type": "code",
   "execution_count": null,
   "metadata": {
    "collapsed": false
   },
   "outputs": [],
   "source": []
  },
  {
   "cell_type": "markdown",
   "metadata": {},
   "source": [
    "### 2) pandas와 함께 Time Zone 카운팅"
   ]
  },
  {
   "cell_type": "code",
   "execution_count": 28,
   "metadata": {
    "collapsed": false
   },
   "outputs": [],
   "source": [
    "from pandas import DataFrame, Series"
   ]
  },
  {
   "cell_type": "code",
   "execution_count": 27,
   "metadata": {
    "collapsed": false
   },
   "outputs": [],
   "source": [
    "import pandas as pd"
   ]
  },
  {
   "cell_type": "code",
   "execution_count": 25,
   "metadata": {
    "collapsed": false
   },
   "outputs": [],
   "source": [
    "frame = DataFrame(records)"
   ]
  },
  {
   "cell_type": "code",
   "execution_count": 26,
   "metadata": {
    "collapsed": false
   },
   "outputs": [
    {
     "data": {
      "text/html": [
       "<div>\n",
       "<table border=\"1\" class=\"dataframe\">\n",
       "  <thead>\n",
       "    <tr style=\"text-align: right;\">\n",
       "      <th></th>\n",
       "      <th>_heartbeat_</th>\n",
       "      <th>a</th>\n",
       "      <th>al</th>\n",
       "      <th>c</th>\n",
       "      <th>cy</th>\n",
       "      <th>g</th>\n",
       "      <th>gr</th>\n",
       "      <th>h</th>\n",
       "      <th>hc</th>\n",
       "      <th>hh</th>\n",
       "      <th>kw</th>\n",
       "      <th>l</th>\n",
       "      <th>ll</th>\n",
       "      <th>nk</th>\n",
       "      <th>r</th>\n",
       "      <th>t</th>\n",
       "      <th>tz</th>\n",
       "      <th>u</th>\n",
       "    </tr>\n",
       "  </thead>\n",
       "  <tbody>\n",
       "    <tr>\n",
       "      <th>0</th>\n",
       "      <td>NaN</td>\n",
       "      <td>Mozilla/5.0 (Windows NT 6.1; WOW64) AppleWebKi...</td>\n",
       "      <td>en-US,en;q=0.8</td>\n",
       "      <td>US</td>\n",
       "      <td>Danvers</td>\n",
       "      <td>A6qOVH</td>\n",
       "      <td>MA</td>\n",
       "      <td>wfLQtf</td>\n",
       "      <td>1331822918</td>\n",
       "      <td>1.usa.gov</td>\n",
       "      <td>NaN</td>\n",
       "      <td>orofrog</td>\n",
       "      <td>[42.576698, -70.954903]</td>\n",
       "      <td>1</td>\n",
       "      <td>http://www.facebook.com/l/7AQEFzjSi/1.usa.gov/...</td>\n",
       "      <td>1331923247</td>\n",
       "      <td>America/New_York</td>\n",
       "      <td>http://www.ncbi.nlm.nih.gov/pubmed/22415991</td>\n",
       "    </tr>\n",
       "    <tr>\n",
       "      <th>1</th>\n",
       "      <td>NaN</td>\n",
       "      <td>GoogleMaps/RochesterNY</td>\n",
       "      <td>NaN</td>\n",
       "      <td>US</td>\n",
       "      <td>Provo</td>\n",
       "      <td>mwszkS</td>\n",
       "      <td>UT</td>\n",
       "      <td>mwszkS</td>\n",
       "      <td>1308262393</td>\n",
       "      <td>j.mp</td>\n",
       "      <td>NaN</td>\n",
       "      <td>bitly</td>\n",
       "      <td>[40.218102, -111.613297]</td>\n",
       "      <td>0</td>\n",
       "      <td>http://www.AwareMap.com/</td>\n",
       "      <td>1331923249</td>\n",
       "      <td>America/Denver</td>\n",
       "      <td>http://www.monroecounty.gov/etc/911/rss.php</td>\n",
       "    </tr>\n",
       "  </tbody>\n",
       "</table>\n",
       "</div>"
      ],
      "text/plain": [
       "   _heartbeat_                                                  a  \\\n",
       "0          NaN  Mozilla/5.0 (Windows NT 6.1; WOW64) AppleWebKi...   \n",
       "1          NaN                             GoogleMaps/RochesterNY   \n",
       "\n",
       "               al   c       cy       g  gr       h          hc         hh  \\\n",
       "0  en-US,en;q=0.8  US  Danvers  A6qOVH  MA  wfLQtf  1331822918  1.usa.gov   \n",
       "1             NaN  US    Provo  mwszkS  UT  mwszkS  1308262393       j.mp   \n",
       "\n",
       "    kw        l                        ll  nk  \\\n",
       "0  NaN  orofrog   [42.576698, -70.954903]   1   \n",
       "1  NaN    bitly  [40.218102, -111.613297]   0   \n",
       "\n",
       "                                                   r           t  \\\n",
       "0  http://www.facebook.com/l/7AQEFzjSi/1.usa.gov/...  1331923247   \n",
       "1                           http://www.AwareMap.com/  1331923249   \n",
       "\n",
       "                 tz                                            u  \n",
       "0  America/New_York  http://www.ncbi.nlm.nih.gov/pubmed/22415991  \n",
       "1    America/Denver  http://www.monroecounty.gov/etc/911/rss.php  "
      ]
     },
     "execution_count": 26,
     "metadata": {},
     "output_type": "execute_result"
    }
   ],
   "source": [
    "frame[0:2]"
   ]
  },
  {
   "cell_type": "code",
   "execution_count": 29,
   "metadata": {
    "collapsed": false
   },
   "outputs": [
    {
     "data": {
      "text/plain": [
       "0          America/New_York\n",
       "1            America/Denver\n",
       "2          America/New_York\n",
       "3         America/Sao_Paulo\n",
       "4          America/New_York\n",
       "5          America/New_York\n",
       "6             Europe/Warsaw\n",
       "7                          \n",
       "8                          \n",
       "9                          \n",
       "10      America/Los_Angeles\n",
       "11         America/New_York\n",
       "12         America/New_York\n",
       "13                      NaN\n",
       "14         America/New_York\n",
       "15           Asia/Hong_Kong\n",
       "16           Asia/Hong_Kong\n",
       "17         America/New_York\n",
       "18           America/Denver\n",
       "19              Europe/Rome\n",
       "20             Africa/Ceuta\n",
       "21         America/New_York\n",
       "22         America/New_York\n",
       "23         America/New_York\n",
       "24            Europe/Madrid\n",
       "25        Asia/Kuala_Lumpur\n",
       "26             Asia/Nicosia\n",
       "27        America/Sao_Paulo\n",
       "28                         \n",
       "29                         \n",
       "               ...         \n",
       "3530    America/Los_Angeles\n",
       "3531                       \n",
       "3532       America/New_York\n",
       "3533       America/New_York\n",
       "3534        America/Chicago\n",
       "3535        America/Chicago\n",
       "3536                       \n",
       "3537    America/Tegucigalpa\n",
       "3538    America/Los_Angeles\n",
       "3539    America/Los_Angeles\n",
       "3540         America/Denver\n",
       "3541    America/Los_Angeles\n",
       "3542    America/Los_Angeles\n",
       "3543                    NaN\n",
       "3544        America/Chicago\n",
       "3545        America/Chicago\n",
       "3546    America/Los_Angeles\n",
       "3547       America/New_York\n",
       "3548        America/Chicago\n",
       "3549       Europe/Stockholm\n",
       "3550       America/New_York\n",
       "3551                       \n",
       "3552        America/Chicago\n",
       "3553       America/New_York\n",
       "3554       America/New_York\n",
       "3555       America/New_York\n",
       "3556        America/Chicago\n",
       "3557         America/Denver\n",
       "3558    America/Los_Angeles\n",
       "3559       America/New_York\n",
       "Name: tz, dtype: object"
      ]
     },
     "execution_count": 29,
     "metadata": {},
     "output_type": "execute_result"
    }
   ],
   "source": [
    "frame['tz']"
   ]
  },
  {
   "cell_type": "code",
   "execution_count": 30,
   "metadata": {
    "collapsed": false
   },
   "outputs": [
    {
     "data": {
      "text/plain": [
       "0     America/New_York\n",
       "1       America/Denver\n",
       "2     America/New_York\n",
       "3    America/Sao_Paulo\n",
       "4     America/New_York\n",
       "5     America/New_York\n",
       "6        Europe/Warsaw\n",
       "7                     \n",
       "8                     \n",
       "9                     \n",
       "Name: tz, dtype: object"
      ]
     },
     "execution_count": 30,
     "metadata": {},
     "output_type": "execute_result"
    }
   ],
   "source": [
    "frame['tz'][:10]"
   ]
  },
  {
   "cell_type": "code",
   "execution_count": 31,
   "metadata": {
    "collapsed": false
   },
   "outputs": [],
   "source": [
    "tz_counts = frame['tz'].value_counts()"
   ]
  },
  {
   "cell_type": "code",
   "execution_count": 32,
   "metadata": {
    "collapsed": false
   },
   "outputs": [
    {
     "data": {
      "text/plain": [
       "America/New_York                  1251\n",
       "                                   521\n",
       "America/Chicago                    400\n",
       "America/Los_Angeles                382\n",
       "America/Denver                     191\n",
       "Europe/London                       74\n",
       "Asia/Tokyo                          37\n",
       "Pacific/Honolulu                    36\n",
       "Europe/Madrid                       35\n",
       "America/Sao_Paulo                   33\n",
       "Europe/Berlin                       28\n",
       "Europe/Rome                         27\n",
       "America/Rainy_River                 25\n",
       "Europe/Amsterdam                    22\n",
       "America/Indianapolis                20\n",
       "America/Phoenix                     20\n",
       "Europe/Warsaw                       16\n",
       "America/Mexico_City                 15\n",
       "Europe/Stockholm                    14\n",
       "Europe/Paris                        14\n",
       "America/Vancouver                   12\n",
       "Pacific/Auckland                    11\n",
       "Europe/Prague                       10\n",
       "Europe/Helsinki                     10\n",
       "Asia/Hong_Kong                      10\n",
       "America/Puerto_Rico                 10\n",
       "Europe/Oslo                         10\n",
       "Europe/Moscow                       10\n",
       "Asia/Calcutta                        9\n",
       "America/Montreal                     9\n",
       "                                  ... \n",
       "Europe/Belgrade                      2\n",
       "Asia/Pontianak                       1\n",
       "America/Mazatlan                     1\n",
       "Europe/Skopje                        1\n",
       "America/Argentina/Cordoba            1\n",
       "Europe/Sofia                         1\n",
       "America/Argentina/Mendoza            1\n",
       "America/St_Kitts                     1\n",
       "America/Santo_Domingo                1\n",
       "America/Monterrey                    1\n",
       "Asia/Novosibirsk                     1\n",
       "America/Argentina/Buenos_Aires       1\n",
       "Europe/Volgograd                     1\n",
       "America/Caracas                      1\n",
       "Australia/Queensland                 1\n",
       "Europe/Ljubljana                     1\n",
       "Asia/Riyadh                          1\n",
       "Asia/Manila                          1\n",
       "Africa/Casablanca                    1\n",
       "Africa/Johannesburg                  1\n",
       "Asia/Yekaterinburg                   1\n",
       "America/Lima                         1\n",
       "Asia/Kuching                         1\n",
       "Africa/Lusaka                        1\n",
       "America/Tegucigalpa                  1\n",
       "America/La_Paz                       1\n",
       "Asia/Nicosia                         1\n",
       "Europe/Uzhgorod                      1\n",
       "America/Costa_Rica                   1\n",
       "America/Montevideo                   1\n",
       "dtype: int64"
      ]
     },
     "execution_count": 32,
     "metadata": {},
     "output_type": "execute_result"
    }
   ],
   "source": [
    "tz_counts"
   ]
  },
  {
   "cell_type": "markdown",
   "metadata": {},
   "source": [
    "- plot 결과가 ipython notebook 페이지에 보이지 않을 때 아래 명령어 수행"
   ]
  },
  {
   "cell_type": "code",
   "execution_count": 38,
   "metadata": {
    "collapsed": true
   },
   "outputs": [],
   "source": [
    "%matplotlib inline"
   ]
  },
  {
   "cell_type": "code",
   "execution_count": 39,
   "metadata": {
    "collapsed": false
   },
   "outputs": [
    {
     "data": {
      "text/plain": [
       "<matplotlib.axes._subplots.AxesSubplot at 0x1123cee90>"
      ]
     },
     "execution_count": 39,
     "metadata": {},
     "output_type": "execute_result"
    },
    {
     "data": {
      "image/png": "[encoded data removed]",
      "text/plain": [
       "<matplotlib.figure.Figure at 0x1123ce810>"
      ]
     },
     "metadata": {},
     "output_type": "display_data"
    }
   ],
   "source": [
    "tz_counts[:10].plot(kind='barh', rot=0)"
   ]
  },
  {
   "cell_type": "code",
   "execution_count": 40,
   "metadata": {
    "collapsed": false
   },
   "outputs": [
    {
     "data": {
      "text/plain": [
       "<matplotlib.axes._subplots.AxesSubplot at 0x1129bea10>"
      ]
     },
     "execution_count": 40,
     "metadata": {},
     "output_type": "execute_result"
    },
    {
     "data": {
      "image/png": "[encoded data removed]",
      "text/plain": [
       "<matplotlib.figure.Figure at 0x1129c18d0>"
      ]
     },
     "metadata": {},
     "output_type": "display_data"
    }
   ],
   "source": [
    "tz_counts[:10].plot(kind='line', rot=270)"
   ]
  },
  {
   "cell_type": "code",
   "execution_count": null,
   "metadata": {
    "collapsed": true
   },
   "outputs": [],
   "source": []
  }
 ],
 "metadata": {
  "kernelspec": {
   "display_name": "Python 2",
   "language": "python",
   "name": "python2"
  },
  "language_info": {
   "codemirror_mode": {
    "name": "ipython",
    "version": 2
   },
   "file_extension": ".py",
   "mimetype": "text/x-python",
   "name": "python",
   "nbconvert_exporter": "python",
   "pygments_lexer": "ipython2",
   "version": "2.7.6"
  }
 },
 "nbformat": 4,
 "nbformat_minor": 0
}
